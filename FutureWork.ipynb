{
  "nbformat": 4,
  "nbformat_minor": 0,
  "metadata": {
    "colab": {
      "name": "FutureWork.ipynb",
      "provenance": []
    },
    "kernelspec": {
      "name": "python3",
      "display_name": "Python 3"
    }
  },
  "cells": [
    {
      "cell_type": "code",
      "metadata": {
        "id": "YH_853ddSU_O",
        "colab_type": "code",
        "colab": {}
      },
      "source": [
        "https://github.com/um2147/CNN-Keras-Implementation/blob/master/HW5_Q2.ipynb\n",
        "\n",
        "\n",
        "https://github.com/kruho/BatchNormalization/blob/master/cnn_bn.ipynb \n",
        "\n",
        "https://github.com/ChthonicCrusader/KerasBatchNormalization/blob/master/keras_BatchNormalization.ipynb \n",
        "\n",
        "https://github.com/yanji84/neural-network/blob/master/NeuralNetDropout.ipynb \n",
        "\n",
        "https://github.com/yanji84/neural-network/blob/master/NeuralNetBatchNormalization.ipynb\n",
        "\n",
        "https://github.com/yanji84/neural-network/blob/master/ConvolutionalNetworks.ipynb \n",
        "\n",
        "https://github.com/yanji84/neural-network/blob/master/NeuralNet.ipynb\n",
        "\n",
        "https://github.com/ApoorvaBeedu/CS231n-Convolutional-Neural-Networks/blob/master/ConvolutionalNetworks.ipynb \n",
        "\n",
        "https://github.com/radaimi/Towards-Understanding-Regularization-in-Normalization-Layers-in-Deep-Neural-Networks/blob/master/LayerNormalization/LayerNorm.ipynb\n",
        "\n",
        "https://github.com/radaimi/Towards-Understanding-Regularization-in-Normalization-Layers-in-Deep-Neural-Networks/blob/master/InstanceNormalization/InstanceNorm.ipynb\n",
        "\n",
        "https://github.com/NikhileshOV/Various-CNN-networks-on-MNIST-dataset/blob/master/Various%20CNN%20networks%20on%20MNIST.ipynb\n",
        "\n",
        "https://github.com/Asun0204/CS231n/blob/master/assignment2/FullyConnectedNets.ipynb \n",
        "\n",
        "https://github.com/Asun0204/CS231n/blob/master/assignment1/two_layer_net.ipynb\n",
        "\n",
        "https://github.com/NikhitaMethwani/Deep-Learning-CNN---CIFAR-Hyper-parameter-tuning/blob/master/OptimizerTunning.ipynb \n",
        "\n",
        "https://github.com/axp180002/Energy-efficiency/blob/master/Multiple%20Linear%20Regression%20with%20prolongations_AXP180002.ipynb \n",
        "\n",
        "https://github.com/jrdGroves/PimaIndianSLPerceptron/blob/master/PimaIndian%20SLPerceptron.ipynb\n",
        "\n",
        "https://github.com/mintusf/Traffic-signs-recognition/blob/master/CNN_for_trafficsigns.ipynb\n",
        "\n"
      ],
      "execution_count": 0,
      "outputs": []
    }
  ]
}